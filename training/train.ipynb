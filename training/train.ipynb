{
 "cells": [
  {
   "cell_type": "markdown",
   "metadata": {
    "id": "xJM8Z_Y0pYhw"
   },
   "source": [
    "# libs, dataset"
   ]
  },
  {
   "cell_type": "code",
   "execution_count": null,
   "metadata": {
    "id": "vqAF2H8QTfiV"
   },
   "outputs": [],
   "source": [
    "!rm -rf used_cars"
   ]
  },
  {
   "cell_type": "code",
   "execution_count": null,
   "metadata": {
    "colab": {
     "base_uri": "https://localhost:8080/"
    },
    "id": "0Fxg3u0lR0WX",
    "outputId": "c3390afe-edfc-472e-b273-62d8681a4b08"
   },
   "outputs": [],
   "source": [
    "!git lfs clone https://huggingface.co/datasets/imbalet/used_cars"
   ]
  },
  {
   "cell_type": "code",
   "execution_count": null,
   "metadata": {
    "colab": {
     "base_uri": "https://localhost:8080/"
    },
    "collapsed": true,
    "id": "d6oVf2XaSDy7",
    "outputId": "03273883-0c3b-441a-896f-5ddf5ee4fcdd"
   },
   "outputs": [],
   "source": [
    "!pip install numpy pandas scikit-learn tensorflow"
   ]
  },
  {
   "cell_type": "markdown",
   "metadata": {
    "id": "7M3qtd4Ihdc0"
   },
   "source": [
    "# import"
   ]
  },
  {
   "cell_type": "code",
   "execution_count": null,
   "metadata": {
    "id": "yKLmyTa7SflW"
   },
   "outputs": [],
   "source": [
    "import tensorflow as tf\n",
    "import numpy as np\n",
    "import pandas as pd\n",
    "from sklearn.preprocessing import LabelEncoder, StandardScaler, MinMaxScaler\n",
    "from sklearn.model_selection import train_test_split"
   ]
  },
  {
   "cell_type": "markdown",
   "metadata": {},
   "source": [
    "# Creating db\n",
    "in progress..."
   ]
  },
  {
   "cell_type": "code",
   "execution_count": null,
   "metadata": {},
   "outputs": [],
   "source": [
    "vars = [\"mark\", \"model\", \"super_gen\"]\n",
    "v = [\"engine\", \"transmission\"]"
   ]
  },
  {
   "cell_type": "code",
   "execution_count": null,
   "metadata": {},
   "outputs": [],
   "source": [
    "for i in set(df[\"model\"]):\n",
    "    if len(set(df[df[\"model\"] == i][\"mark\"])) > 1: print(i, set(df[df[\"model\"] == i][\"mark\"]))"
   ]
  },
  {
   "cell_type": "code",
   "execution_count": null,
   "metadata": {},
   "outputs": [],
   "source": [
    "data = {}\n",
    "for index, row in df.iterrows():\n",
    "    mark = row[\"mark\"]\n",
    "    model = row[\"model\"]\n",
    "    gen = row[\"super_gen\"]\n",
    "    tr = row[\"transmission\"]\n",
    "    en = row[\"engine\"]\n",
    "    if mark not in data:\n",
    "        data[mark] = {}\n",
    "    if model not in data[mark]:\n",
    "        data[mark][model] = {\"super_gen\": set(), \"transmission\": set(), \"engine\": set(), \"year\": set()}\n",
    "    data[mark][model][\"super_gen\"].add(str(gen))\n",
    "    data[mark][model][\"transmission\"].add(str(tr))\n",
    "    data[mark][model][\"engine\"].add(str(en))\n",
    "    data[mark][model][\"year\"].add(row[\"year\"])\n",
    "\n"
   ]
  },
  {
   "cell_type": "code",
   "execution_count": null,
   "metadata": {},
   "outputs": [],
   "source": [
    "for i in data:\n",
    "    for j in data[i]:\n",
    "        data[i][j][\"super_gen\"] = list(data[i][j][\"super_gen\"])\n",
    "        data[i][j][\"transmission\"] = list(data[i][j][\"transmission\"])\n",
    "        data[i][j][\"engine\"] = list(data[i][j][\"engine\"])\n",
    "        data[i][j][\"year\"] = list(data[i][j][\"year\"])\n",
    "\n",
    "        print(data[i][j])"
   ]
  },
  {
   "cell_type": "code",
   "execution_count": null,
   "metadata": {},
   "outputs": [],
   "source": [
    "cols = [\"owners\", 'region', 'body_type', 'steering_wheel', 'gear_type', \"color\"]\n",
    "vars = {i: list(map(str, set(df[i]))) for i in cols}"
   ]
  },
  {
   "cell_type": "code",
   "execution_count": null,
   "metadata": {},
   "outputs": [],
   "source": [
    "vars[\"mark\"] = data"
   ]
  },
  {
   "cell_type": "code",
   "execution_count": null,
   "metadata": {},
   "outputs": [],
   "source": [
    "import json\n",
    "with open(\"variants_cars.json\", 'w') as f:\n",
    "    json.dump(data, f, ensure_ascii = False)\n",
    "    "
   ]
  },
  {
   "cell_type": "code",
   "execution_count": null,
   "metadata": {},
   "outputs": [],
   "source": [
    "with open(\"variants.json\", 'w') as f:\n",
    "    json.dump(vars, f, ensure_ascii = False)"
   ]
  },
  {
   "cell_type": "markdown",
   "metadata": {
    "id": "diUaoB8CiC4l"
   },
   "source": [
    "# dataset\n"
   ]
  },
  {
   "cell_type": "code",
   "execution_count": null,
   "metadata": {
    "id": "amWxNfuXiwXn"
   },
   "outputs": [],
   "source": [
    "df = pd.read_csv(\"used_cars/dataset.csv\")"
   ]
  },
  {
   "cell_type": "code",
   "execution_count": null,
   "metadata": {},
   "outputs": [],
   "source": [
    "df.sample(3)"
   ]
  },
  {
   "cell_type": "code",
   "execution_count": null,
   "metadata": {},
   "outputs": [],
   "source": [
    "df = df.drop([\"doors\", \"class\"], axis = 1)"
   ]
  },
  {
   "cell_type": "code",
   "execution_count": null,
   "metadata": {
    "id": "6YhQYMTniEiF"
   },
   "outputs": [],
   "source": [
    "# df[\"doors\"] = df[\"doors\"].astype(\"object\")\n",
    "df[\"super_gen\"] = df[\"super_gen\"].astype(\"object\")\n",
    "df[\"year\"] = df[\"year\"].astype(\"object\")\n",
    "df[\"owners\"] = df[\"owners\"].astype(\"object\")"
   ]
  },
  {
   "cell_type": "code",
   "execution_count": null,
   "metadata": {
    "id": "lmfuG6cliIY9"
   },
   "outputs": [],
   "source": [
    "num_features = [\"owners\", \"mileage\", \"power\", \"displacemnt\"]\n",
    "cat_features = df.select_dtypes(include=['object']).columns"
   ]
  },
  {
   "cell_type": "code",
   "execution_count": null,
   "metadata": {
    "id": "lyjoJPAgiQiE"
   },
   "outputs": [],
   "source": [
    "price = [\"price\"]\n",
    "\n",
    "price_scaler = StandardScaler()\n",
    "\n",
    "df[price] = price_scaler.fit_transform(df[price])"
   ]
  },
  {
   "cell_type": "code",
   "execution_count": null,
   "metadata": {
    "id": "yb6nPKPHiUis"
   },
   "outputs": [],
   "source": [
    "scaler = StandardScaler()\n",
    "df[num_features] = scaler.fit_transform(df[num_features])"
   ]
  },
  {
   "cell_type": "code",
   "execution_count": null,
   "metadata": {
    "id": "mXgn7Gg2iWrc"
   },
   "outputs": [],
   "source": [
    "label_encoders = {}\n",
    "for feature in cat_features:\n",
    "    le = LabelEncoder()\n",
    "    df[feature] = le.fit_transform(df[feature])\n",
    "    label_encoders[feature] = le\n"
   ]
  },
  {
   "cell_type": "code",
   "execution_count": null,
   "metadata": {},
   "outputs": [],
   "source": [
    "# creating config scale/encoders file\n",
    "import json\n",
    "scalers = {scaler.feature_names_in_[i]: (float(scaler.mean_[i]), float(scaler.scale_[i])) for i in range(len(scaler.mean_))}\n",
    "scalers[\"price\"] = (float(price_scaler.mean_[0]), float(price_scaler.scale_[0]))\n",
    "\n",
    "labels = {i: list(map(str, label_encoders[i].classes_)) for i in label_encoders}\n",
    "\n",
    "with open(\"configs.json\", 'w', encoding=\"utf-8\") as f:\n",
    "    json.dump({\"scalers\": scalers, \"labels\": labels}, f, ensure_ascii=False, indent=4)"
   ]
  },
  {
   "cell_type": "code",
   "execution_count": null,
   "metadata": {
    "colab": {
     "base_uri": "https://localhost:8080/",
     "height": 143
    },
    "id": "Ez5Gc0tcjA3b",
    "outputId": "8e93d854-1612-4453-88d1-f56c063be0ed"
   },
   "outputs": [],
   "source": [
    "df.sample(3)"
   ]
  },
  {
   "cell_type": "code",
   "execution_count": null,
   "metadata": {
    "id": "By6uHjrNicLr"
   },
   "outputs": [],
   "source": [
    "X = df.drop(columns=['price'])\n",
    "y = df['price']\n",
    "\n",
    "\n",
    "X_train, X_test, y_train, y_test = train_test_split(X, y, test_size=0.2, random_state=42)"
   ]
  },
  {
   "cell_type": "markdown",
   "metadata": {},
   "source": [
    "# model\n"
   ]
  },
  {
   "cell_type": "code",
   "execution_count": null,
   "metadata": {
    "colab": {
     "base_uri": "https://localhost:8080/"
    },
    "id": "DaN8VWVyieN8",
    "outputId": "509c71e6-7bb7-4b0e-918d-1b4d6f8c91ba"
   },
   "outputs": [],
   "source": [
    "model = tf.keras.models.Sequential([\n",
    "    tf.keras.layers.Dense(128, activation='relu', input_shape=(X_train.shape[1],)),\n",
    "    tf.keras.layers.Dense(64, activation='relu'),\n",
    "    tf.keras.layers.Dense(32, activation='relu'),\n",
    "    tf.keras.layers.Dense(1, activation='linear')\n",
    "])"
   ]
  },
  {
   "cell_type": "code",
   "execution_count": null,
   "metadata": {
    "id": "nKxGBEaAjLON"
   },
   "outputs": [],
   "source": [
    "model.compile(optimizer='adam', loss = \"mean_squared_error\")"
   ]
  },
  {
   "cell_type": "code",
   "execution_count": null,
   "metadata": {
    "colab": {
     "base_uri": "https://localhost:8080/"
    },
    "id": "xJIbYkGOilDT",
    "outputId": "45dbd910-bf04-4947-bf9a-cab67e14e5f6"
   },
   "outputs": [],
   "source": [
    "model.fit(X_train, y_train, epochs=50, validation_split=0.1, batch_size=64)"
   ]
  },
  {
   "cell_type": "code",
   "execution_count": null,
   "metadata": {},
   "outputs": [],
   "source": [
    "model.save('model.keras')"
   ]
  },
  {
   "cell_type": "code",
   "execution_count": null,
   "metadata": {
    "colab": {
     "base_uri": "https://localhost:8080/"
    },
    "id": "xSKf6l5mjO0N",
    "outputId": "b5a9519d-da0d-4024-e9b8-22d26623bc9a"
   },
   "outputs": [],
   "source": [
    "test_loss = model.evaluate(X_test, y_test)\n",
    "print(f'Test loss (MSE): {test_loss}')"
   ]
  },
  {
   "cell_type": "code",
   "execution_count": null,
   "metadata": {
    "id": "7qk9V5l7jQWo"
   },
   "outputs": [],
   "source": [
    "original_data = price_scaler.inverse_transform(np.array(y_test).reshape(-1, 1))"
   ]
  },
  {
   "cell_type": "code",
   "execution_count": null,
   "metadata": {
    "colab": {
     "base_uri": "https://localhost:8080/"
    },
    "id": "ZTKiytdXjRjF",
    "outputId": "97d607bb-54dd-4aa3-e413-4648c643ca59"
   },
   "outputs": [],
   "source": [
    "pred_unscaled = price_scaler.inverse_transform(model.predict(X_test))"
   ]
  },
  {
   "cell_type": "code",
   "execution_count": null,
   "metadata": {
    "colab": {
     "base_uri": "https://localhost:8080/"
    },
    "id": "uC5hRkEajUn_",
    "outputId": "1214ffcd-3d12-4e2a-b658-dba560a26fe3"
   },
   "outputs": [],
   "source": [
    "# MAE\n",
    "sum(abs(original_data - pred_unscaled)) / original_data.shape[0]"
   ]
  }
 ],
 "metadata": {
  "accelerator": "GPU",
  "colab": {
   "gpuType": "T4",
   "provenance": []
  },
  "kernelspec": {
   "display_name": "Python 3",
   "name": "python3"
  },
  "language_info": {
   "codemirror_mode": {
    "name": "ipython",
    "version": 3
   },
   "file_extension": ".py",
   "mimetype": "text/x-python",
   "name": "python",
   "nbconvert_exporter": "python",
   "pygments_lexer": "ipython3",
   "version": "3.10.12"
  }
 },
 "nbformat": 4,
 "nbformat_minor": 0
}
